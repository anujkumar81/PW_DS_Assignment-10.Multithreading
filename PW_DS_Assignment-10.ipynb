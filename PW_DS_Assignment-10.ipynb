{
 "cells": [
  {
   "cell_type": "code",
   "execution_count": null,
   "id": "cfc477fb-b53b-4ef6-992a-6f4b478625dc",
   "metadata": {},
   "outputs": [],
   "source": [
    "# Question 1:\n",
    "\"\"\"what is multithreading in python? why is it used? Name the module used to handle threads in python\"\"\"\n",
    "# Answer:\n",
    "# what is multithreading in python?\n",
    "'''Multithreading is defined as the ability of a processor to execute multiple threads concurrently. In a simple, single-core CPU, it is achieved using frequent switching between threads'''\n",
    "# why is it used?\n",
    "'''Python multithreading enables efficient utilization of the resources as the threads share the data space and memory. Multithreading in Python allows the concurrent and parallel occurrence of various tasks. It causes a reduction in time consumption or response time, thereby increasing the performance.\n",
    "Thread: A class that represents a thread. You can create a new thread by creating an instance of this class and passing a target function to it.\n",
    "Lock: A class that provides a way to synchronize access to resources among multiple threads.\n",
    "Semaphore: A synchronization primitive that allows a certain number of threads to access a resource simultaneously.\n",
    "Event: A synchronization primitive that allows one or more threads to wait until a certain event has occurred.\n",
    "Condition: A synchronization primitive that allows threads to wait for a specific condition to be met.'''"
   ]
  },
  {
   "cell_type": "code",
   "execution_count": null,
   "id": "5ad4eaea-4df9-4834-890e-e9d76a3056b4",
   "metadata": {},
   "outputs": [],
   "source": []
  },
  {
   "cell_type": "code",
   "execution_count": null,
   "id": "85900e73-03c5-43cd-9c00-ea90f7b95741",
   "metadata": {},
   "outputs": [],
   "source": [
    "# Question 2:\n",
    "'''2. why threading module used? rite the use of the following functions\n",
    "1. activeCount()\n",
    "2. currentThread()\n",
    "3. enumerate()'''\n",
    "# Answer:\n",
    "'''The threading module in Python is used for creating and managing threads within a single process. Threads are particularly useful when you want to achieve concurrent execution and improve resource utilization. Here's an overview of the threading module and the specific functions you mentioned:\n",
    "1. activeCount():\n",
    "The activeCount() function is used to get the number of Thread objects currently alive. It returns the number of threads that are currently running and managed by the threading module. This can be useful to keep track of the number of active threads in your program.'''\n",
    "# Example:\n",
    "import threading\n",
    "\n",
    "def worker():\n",
    "    print(\"Thread is working...\")\n",
    "if __name__ == \"__main__\":\n",
    "    thread1 = threading.Thread(target=worker)\n",
    "    thread2 = threading.Thread(target=worker)\n",
    "    thread1.start()\n",
    "    thread2.start()\n",
    "    print(\"Number of active threads:\", threading.activeCount())"
   ]
  },
  {
   "cell_type": "code",
   "execution_count": null,
   "id": "cb3f3609-4737-4ff7-bc79-f98ea280aa71",
   "metadata": {},
   "outputs": [],
   "source": [
    "'''2. currentThread():\n",
    "The currentThread() function returns the current Thread object, representing the thread from which the function is called. This can be useful to identify the thread that's executing a particular piece of code.'''\n",
    "# Example:\n",
    "import threading\n",
    "def print_thread_name():\n",
    "    current_thread = threading.currentThread()\n",
    "    print(\"Current thread name:\", current_thread.getName())\n",
    "if __name__ == \"__main__\":\n",
    "    thread = threading.Thread(target=print_thread_name)\n",
    "    thread.start()"
   ]
  },
  {
   "cell_type": "code",
   "execution_count": null,
   "id": "cb399539-09d7-4e54-a4c6-7fbafc4c42ca",
   "metadata": {},
   "outputs": [],
   "source": [
    "'''3. enumerate():\n",
    "The enumerate() function returns a list of all Thread objects currently alive. It can also be used to get a list of all Thread objects managed by the threading module, including the main thread. Each thread in the list can then be inspected or operated upon.'''\n",
    "# Example:\n",
    "import threading\n",
    "def worker():\n",
    "    pass\n",
    "if __name__ == \"__main__\":\n",
    "    thread1 = threading.Thread(target=worker)\n",
    "    thread2 = threading.Thread(target=worker)\n",
    "    thread1.start()\n",
    "    thread2.start()\n",
    "    threads = threading.enumerate()\n",
    "    print(\"Number of threads:\", len(threads))\n",
    "    for thread in threads:\n",
    "        print(\"Thread name:\", thread.getName())"
   ]
  },
  {
   "cell_type": "code",
   "execution_count": null,
   "id": "1cfc39a8-5e55-46df-b523-4a60a935c5d8",
   "metadata": {},
   "outputs": [],
   "source": []
  },
  {
   "cell_type": "code",
   "execution_count": null,
   "id": "1a20b18d-e782-4ca9-a532-21b3a72c692c",
   "metadata": {},
   "outputs": [],
   "source": [
    "# Question 3:\n",
    "'''Explain the following functions\n",
    "1. run()\n",
    "2. start()\n",
    "3. join()\n",
    "4. isAlive()'''\n",
    "# Answer:\n",
    "# 1. run():\n",
    "'''The run() method is not directly used with the threading module. Instead, it's a method that you can override in your own custom thread class by subclassing the Thread class. When you create a thread using the Thread class and override the run() method, the code you write in the run() method will be executed when the thread is started using the start() method. This method encapsulates the actual work that the thread is supposed to perform.'''\n",
    "# 2. start():\n",
    "'''The start() method is used to initiate the execution of a thread. When you call start() on a Thread object, it schedules the thread's run() method to be executed concurrently. This method must be called after creating a thread object and before any other methods (like join()) to ensure that the thread starts running.'''\n",
    "# 3. join():\n",
    "'''The join() method is used to wait for a thread to complete its execution. When you call join() on a Thread object, the calling thread (usually the main thread) will pause and wait until the target thread (the thread you called join() on) finishes its execution. This is useful for coordinating the execution of threads and making sure that certain operations happen in a specific order.'''\n",
    "# 4. isAlive():\n",
    "\"\"\"The isAlive() method is used to check whether a thread is currently executing or has finished its execution. It returns True if the thread is still active (running) and False otherwise.\"\"\""
   ]
  },
  {
   "cell_type": "code",
   "execution_count": null,
   "id": "8b0123c2-1795-4516-a4c1-dc0743a7439b",
   "metadata": {},
   "outputs": [],
   "source": []
  },
  {
   "cell_type": "code",
   "execution_count": 4,
   "id": "12e6c25a-94ba-40aa-82cf-a4dfccacc581",
   "metadata": {},
   "outputs": [
    {
     "name": "stdout",
     "output_type": "stream",
     "text": [
      "1\n",
      "4\n",
      "9\n",
      "16\n",
      "25\n",
      "36\n",
      "49\n",
      "64\n",
      "81\n",
      "100\n",
      "1\n",
      "8\n",
      "27\n",
      "64\n",
      "125\n",
      "216\n",
      "343\n",
      "512\n",
      "729\n",
      "1000\n"
     ]
    }
   ],
   "source": [
    "# Question 4:\n",
    "'''write a python program to create two threads. Thread one must print the list of squares and thread two must print the list of cubes.'''\n",
    "# Answer:\n",
    "import threading\n",
    "\n",
    "def print_squares(n):\n",
    "  for i in range(1, n + 1):\n",
    "    print(i * i)\n",
    "\n",
    "def print_cubes(n):\n",
    "  for i in range(1, n + 1):\n",
    "    print(i * i * i)\n",
    "\n",
    "if __name__ == \"__main__\":\n",
    "  n = 10\n",
    "  t1 = threading.Thread(target=print_squares, args=(n,))\n",
    "  t2 = threading.Thread(target=print_cubes, args=(n,))\n",
    "\n",
    "  t1.start()\n",
    "  t2.start()\n",
    "\n",
    "  t1.join()\n",
    "  t2.join()\n"
   ]
  },
  {
   "cell_type": "code",
   "execution_count": null,
   "id": "0c0a47b5-b9a7-4de8-81ac-944bfdd14a12",
   "metadata": {},
   "outputs": [],
   "source": []
  },
  {
   "cell_type": "code",
   "execution_count": null,
   "id": "3be811ec-dea3-4fb7-8f20-9fc254422cf1",
   "metadata": {},
   "outputs": [],
   "source": [
    "# Question 5:\n",
    "'''State advantages and disadvantages of multithreading'''\n",
    "# Answer:\n",
    "\n",
    "#Advantages of Multithreading:\n",
    "'''1. Concurrent Execution: Multithreading allows multiple tasks to run concurrently within the same process. This can lead to better resource utilization and improved overall performance.\n",
    "2. Responsiveness: Multithreading can help keep user interfaces responsive. In applications with graphical user interfaces (GUIs), threads can handle background tasks without freezing the user interface.\n",
    "3. Resource Sharing: Threads within the same process share memory space, making it easier to share data and communicate between threads. This is particularly useful for communication and coordination between different parts of an application.\n",
    "4. Efficient I/O Operations: Threads are well-suited for I/O-bound tasks (e.g., network operations, file I/O) because they can continue executing while waiting for I/O operations to complete.\n",
    "5. Task Organization: Threads are a natural way to structure an application with multiple tasks or components that can run independently. They can help in designing modular and maintainable code.'''\n",
    "# Disadvantages of Multithreading:\n",
    "'''1. Complexity: Multithreaded programming is inherently more complex than single-threaded programming. Managing thread synchronization, avoiding race conditions, and debugging can be challenging.\n",
    "2. Race Conditions: Race conditions occur when multiple threads access shared resources concurrently, leading to unpredictable and incorrect behavior. Proper synchronization mechanisms are required to avoid race conditions.\n",
    "3. Deadlocks: Deadlocks occur when two or more threads are waiting for each other to release resources, resulting in a standstill. Avoiding and recovering from deadlocks can be difficult.\n",
    "4. Overhead: Threads come with overhead in terms of memory and CPU usage. Each thread has its own stack and resources associated with it. Creating and managing threads can lead to overhead, especially for lightweight tasks.\n",
    "5. Limited Parallelism: In Python, the Global Interpreter Lock (GIL) limits the true parallelism of threads for CPU-bound tasks. This means that even though you have multiple threads, they might not run on multiple cores simultaneously.'''\n"
   ]
  },
  {
   "cell_type": "code",
   "execution_count": null,
   "id": "d23b8722-e3db-4b7a-abcd-6bd236b29534",
   "metadata": {},
   "outputs": [],
   "source": []
  },
  {
   "cell_type": "code",
   "execution_count": null,
   "id": "4e5ce323-e5e6-4c09-8055-b5b0bead5797",
   "metadata": {},
   "outputs": [],
   "source": [
    "# Question 6:\n",
    "\"\"\"Explain deadlocks and race conditions.\"\"\"\n",
    "# Answer:\n",
    "'''Deadlocks and race conditions are two common problems that can occur in multithreaded applications.\n",
    "Deadlock is a situation where two or more threads are waiting for each other to release a resource. This can happen when two threads are each holding a resource that the other thread needs. For example, two threads might be each holding a lock on a different file. If each thread is waiting for the other thread to release its lock, then the two threads will be deadlocked.\n",
    "Race condition is a situation where the outcome of a program depends on the order in which two or more threads access a shared resource. This can happen when two threads are both trying to modify the same data at the same time. For example, two threads might be both trying to increment the same counter. If the two threads do not synchronize their access to the counter, then the final value of the counter may be incorrect.\n",
    "Deadlocks and race conditions can both lead to unexpected and undesirable behavior in multithreaded applications. There are a number of techniques that can be used to prevent deadlocks and race conditions, such as using locks, semaphores, and mutexes to synchronize access to shared resources.'''\n",
    "# Here are some details about deadlocks and race conditions:\n",
    "'''1. Deadlocks can be prevented by using a variety of techniques, such as avoiding circular waits, using timeouts, and using deadlock detection and prevention algorithms.\n",
    "2. Race conditions can be prevented by using techniques such as synchronization, atomic operations, and thread-safe programming.\n",
    "3. Both deadlocks and race conditions can be difficult to debug, as they can be caused by subtle interactions between multiple threads.'''"
   ]
  }
 ],
 "metadata": {
  "kernelspec": {
   "display_name": "Python 3 (ipykernel)",
   "language": "python",
   "name": "python3"
  },
  "language_info": {
   "codemirror_mode": {
    "name": "ipython",
    "version": 3
   },
   "file_extension": ".py",
   "mimetype": "text/x-python",
   "name": "python",
   "nbconvert_exporter": "python",
   "pygments_lexer": "ipython3",
   "version": "3.10.8"
  }
 },
 "nbformat": 4,
 "nbformat_minor": 5
}
